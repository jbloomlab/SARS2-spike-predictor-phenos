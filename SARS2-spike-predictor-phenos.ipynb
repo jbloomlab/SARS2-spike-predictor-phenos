{
 "cells": [
  {
   "cell_type": "markdown",
   "id": "93f86296-548c-4d78-b295-d041b371c92e",
   "metadata": {},
   "source": [
    "# Tabulate phenotypes of SARS-CoV-2 spike that might have predictive power in understanding evolution for different mutations and clades\n",
    "\n",
    "Import Python modules:"
   ]
  },
  {
   "cell_type": "code",
   "execution_count": 1,
   "id": "d4356fd9-5204-4b7f-a587-f2bc90bb719f",
   "metadata": {
    "execution": {
     "iopub.execute_input": "2024-02-21T22:51:52.754849Z",
     "iopub.status.busy": "2024-02-21T22:51:52.754569Z",
     "iopub.status.idle": "2024-02-21T22:51:54.592501Z",
     "shell.execute_reply": "2024-02-21T22:51:54.591730Z",
     "shell.execute_reply.started": "2024-02-21T22:51:52.754826Z"
    }
   },
   "outputs": [],
   "source": [
    "import json\n",
    "import os\n",
    "\n",
    "import altair as alt\n",
    "\n",
    "import numpy\n",
    "\n",
    "import pandas as pd\n",
    "\n",
    "import ruamel.yaml as yaml"
   ]
  },
  {
   "cell_type": "markdown",
   "id": "e88e8e74-6172-43f3-a4e9-47d533125250",
   "metadata": {},
   "source": [
    "Read the configuration YAML:"
   ]
  },
  {
   "cell_type": "code",
   "execution_count": 2,
   "id": "85d21482-675b-40fa-b897-f7606b70cfb9",
   "metadata": {
    "editable": true,
    "execution": {
     "iopub.execute_input": "2024-02-21T22:51:54.595839Z",
     "iopub.status.busy": "2024-02-21T22:51:54.595544Z",
     "iopub.status.idle": "2024-02-21T22:51:54.598952Z",
     "shell.execute_reply": "2024-02-21T22:51:54.598303Z",
     "shell.execute_reply.started": "2024-02-21T22:51:54.595815Z"
    },
    "slideshow": {
     "slide_type": ""
    },
    "tags": [
     "parameters"
    ]
   },
   "outputs": [],
   "source": [
    "# This cell is tagged as parameters. So if you run the notebook using papermill\n",
    "# (https://papermill.readthedocs.io/en/latest/usage-cli.html) with \n",
    "# `-p config_yaml <config_yaml_file>` then the file defined here will be replaced\n",
    "# with the one you pass\n",
    "config_yaml = \"config.yaml\""
   ]
  },
  {
   "cell_type": "code",
   "execution_count": 3,
   "id": "b33ae279-2351-413f-8a5f-f39fd7be684c",
   "metadata": {
    "execution": {
     "iopub.execute_input": "2024-02-21T22:51:54.602117Z",
     "iopub.status.busy": "2024-02-21T22:51:54.601790Z",
     "iopub.status.idle": "2024-02-21T22:51:54.618202Z",
     "shell.execute_reply": "2024-02-21T22:51:54.617567Z",
     "shell.execute_reply.started": "2024-02-21T22:51:54.602079Z"
    }
   },
   "outputs": [],
   "source": [
    "with open(config_yaml) as f:\n",
    "    config = yaml.YAML().load(f)"
   ]
  },
  {
   "cell_type": "markdown",
   "id": "9bddf27e-86c9-475d-90e9-5b9a2be2b1df",
   "metadata": {},
   "source": [
    "Read all the specified mutation-level phenotypic data into a Data Frame.\n",
    "Write that data frame to a file.\n",
    "Also created data frame and file in which the mutation-level phenotypic data are randomized among mutations."
   ]
  },
  {
   "cell_type": "code",
   "execution_count": 5,
   "id": "cb07d139-b566-414d-84df-26d917192c91",
   "metadata": {
    "execution": {
     "iopub.execute_input": "2024-02-21T22:53:45.130988Z",
     "iopub.status.busy": "2024-02-21T22:53:45.130407Z",
     "iopub.status.idle": "2024-02-21T22:53:48.179917Z",
     "shell.execute_reply": "2024-02-21T22:53:48.178501Z",
     "shell.execute_reply.started": "2024-02-21T22:53:45.130948Z"
    }
   },
   "outputs": [
    {
     "name": "stdout",
     "output_type": "stream",
     "text": [
      "Reading XBB.1.5 spike pseudovirus DMS phenotypes from data/spike_pseudovirus_DMS_XBB.1.5.csv\n",
      "  human sera escape\n",
      "  spike mediated entry\n",
      "  ACE2 binding\n",
      "Reading XBB.1.5 RBD yeast-display DMS phenotypes from data/yeast_RBD_DMS_XBB.1.5.csv\n",
      "  ACE2 affinity\n",
      "  RBD expression\n",
      "  escape\n",
      "Reading EVEscape phenotypes from data/EVEscape_XBB_single_mutation_predictions.csv\n",
      "  EVEscape\n",
      "  fitness_evol_indices\n",
      "  dissimilarity_charge_hydrophobicity\n",
      "  accessibility_wcn\n",
      "\n",
      "Writing mutation phenotypes to results/mutation_phenotypes.csv\n",
      "\n",
      "Now randomizing each mutation phenotype 10 times\n",
      "\n",
      "Writing randomized mutation phenotypes to results/mutation_phenotypes_randomized.csv\n"
     ]
    }
   ],
   "source": [
    "mutation_phenotypes = []\n",
    "req_cols = [\"site\", \"wildtype\", \"mutant\"]\n",
    "for phenotype_category, category_d in config[\"phenotype_csvs\"].items():\n",
    "    pheno_cols = category_d[\"columns\"]\n",
    "    print(\n",
    "        f\"Reading {phenotype_category} phenotypes from {category_d['csv']}\\n  \"\n",
    "        + \"\\n  \".join(pheno_cols)\n",
    "    )\n",
    "    if set(req_cols).intersection(pheno_cols):\n",
    "        raise ValueError(f\"{phenotype_category} columns {pheno_cols} include {req_cols}\")\n",
    "    df = pd.read_csv(category_d[\"csv\"])\n",
    "    if not set(req_cols + pheno_cols).issubset(df.columns):\n",
    "        raise ValueError(f\"cannot find expected columns for {phenotype_category}\")\n",
    "    mutation_phenotypes.append(\n",
    "        df\n",
    "        .melt(\n",
    "            id_vars=req_cols,\n",
    "            value_vars=pheno_cols,\n",
    "            var_name=\"phenotype\",\n",
    "            value_name=\"mutation_effect\",\n",
    "        )\n",
    "        .assign(phenotype_category=phenotype_category)\n",
    "        [[\"phenotype_category\", \"phenotype\", *req_cols, \"mutation_effect\"]]\n",
    "        .query(\"mutation_effect.notnull()\")\n",
    "        .query(\"wildtype != mutant\")  # drop any wildtype to wildtype mutations\n",
    "    )\n",
    "\n",
    "mutation_phenotypes = pd.concat(mutation_phenotypes, ignore_index=True)\n",
    "\n",
    "mutation_phenotypes_csv = config[\"mutation_phenotypes_csv\"]\n",
    "os.makedirs(os.path.dirname(mutation_phenotypes_csv), exist_ok=True)\n",
    "print(f\"\\nWriting mutation phenotypes to {mutation_phenotypes_csv}\")\n",
    "mutation_phenotypes.to_csv(mutation_phenotypes_csv, index=False, float_format=\"%.4g\")\n",
    "\n",
    "n_randomizations = config[\"n_randomizations\"]\n",
    "print(f\"\\nNow randomizing each mutation phenotype {n_randomizations} times\")\n",
    "mutation_phenotypes_randomized = []\n",
    "for _, df in mutation_phenotypes.groupby([\"phenotype_category\", \"phenotype\"]):\n",
    "    for random_seed in range(n_randomizations):\n",
    "        numpy.random.seed(random_seed)\n",
    "        mutation_phenotypes_randomized.append(\n",
    "            df\n",
    "            .assign(\n",
    "                mutation_effect=lambda x: numpy.random.shuffle(x[\"mutation_effect\"].to_numpy()),\n",
    "                random_seed=random_seed\n",
    "            )\n",
    "            [[\"random_seed\"] + df.columns.tolist()]\n",
    "        )\n",
    "mutation_phenotypes_randomized = pd.concat(mutation_phenotypes_randomized, ignore_index=True)\n",
    "mutation_phenotypes_randomized_csv = config[\"mutation_phenotypes_randomized_csv\"]\n",
    "os.makedirs(os.path.dirname(mutation_phenotypes_randomized_csv), exist_ok=True)\n",
    "print(f\"\\nWriting randomized mutation phenotypes to {mutation_phenotypes_randomized_csv}\")\n",
    "mutation_phenotypes_randomized.to_csv(mutation_phenotypes_randomized_csv, index=False, float_format=\"%.4g\")"
   ]
  },
  {
   "cell_type": "code",
   "execution_count": null,
   "id": "3fb3e102-c837-47ea-b459-45d049a01222",
   "metadata": {},
   "outputs": [],
   "source": []
  }
 ],
 "metadata": {
  "kernelspec": {
   "display_name": "Python 3 (ipykernel)",
   "language": "python",
   "name": "python3"
  },
  "language_info": {
   "codemirror_mode": {
    "name": "ipython",
    "version": 3
   },
   "file_extension": ".py",
   "mimetype": "text/x-python",
   "name": "python",
   "nbconvert_exporter": "python",
   "pygments_lexer": "ipython3",
   "version": "3.11.8"
  }
 },
 "nbformat": 4,
 "nbformat_minor": 5
}
