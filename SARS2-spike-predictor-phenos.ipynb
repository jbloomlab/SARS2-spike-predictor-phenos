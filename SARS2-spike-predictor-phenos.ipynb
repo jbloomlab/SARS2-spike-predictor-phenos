{
 "cells": [
  {
   "cell_type": "markdown",
   "id": "93f86296-548c-4d78-b295-d041b371c92e",
   "metadata": {},
   "source": [
    "# Tabulate phenotypes of SARS-CoV-2 spike that might have predictive power in understanding evolution for different mutations and clades\n",
    "\n",
    "Import Python modules:"
   ]
  },
  {
   "cell_type": "code",
   "execution_count": 1,
   "id": "d4356fd9-5204-4b7f-a587-f2bc90bb719f",
   "metadata": {
    "execution": {
     "iopub.execute_input": "2024-02-23T22:35:56.924916Z",
     "iopub.status.busy": "2024-02-23T22:35:56.924486Z",
     "iopub.status.idle": "2024-02-23T22:35:59.316633Z",
     "shell.execute_reply": "2024-02-23T22:35:59.315484Z",
     "shell.execute_reply.started": "2024-02-23T22:35:56.924878Z"
    }
   },
   "outputs": [],
   "source": [
    "import json\n",
    "import os\n",
    "import urllib.request\n",
    "\n",
    "import altair as alt\n",
    "\n",
    "import numpy\n",
    "\n",
    "import pandas as pd\n",
    "\n",
    "import ruamel.yaml as yaml"
   ]
  },
  {
   "cell_type": "markdown",
   "id": "e88e8e74-6172-43f3-a4e9-47d533125250",
   "metadata": {},
   "source": [
    "Read the configuration YAML:"
   ]
  },
  {
   "cell_type": "code",
   "execution_count": 2,
   "id": "85d21482-675b-40fa-b897-f7606b70cfb9",
   "metadata": {
    "editable": true,
    "execution": {
     "iopub.execute_input": "2024-02-23T22:35:59.321074Z",
     "iopub.status.busy": "2024-02-23T22:35:59.320711Z",
     "iopub.status.idle": "2024-02-23T22:35:59.324782Z",
     "shell.execute_reply": "2024-02-23T22:35:59.324062Z",
     "shell.execute_reply.started": "2024-02-23T22:35:59.321038Z"
    },
    "slideshow": {
     "slide_type": ""
    },
    "tags": [
     "parameters"
    ]
   },
   "outputs": [],
   "source": [
    "# This cell is tagged as parameters. So if you run the notebook using papermill\n",
    "# (https://papermill.readthedocs.io/en/latest/usage-cli.html) with \n",
    "# `-p config_yaml <config_yaml_file>` then the file defined here will be replaced\n",
    "# with the one you pass\n",
    "config_yaml = \"config.yaml\""
   ]
  },
  {
   "cell_type": "code",
   "execution_count": 3,
   "id": "b33ae279-2351-413f-8a5f-f39fd7be684c",
   "metadata": {
    "execution": {
     "iopub.execute_input": "2024-02-23T22:35:59.329124Z",
     "iopub.status.busy": "2024-02-23T22:35:59.328664Z",
     "iopub.status.idle": "2024-02-23T22:35:59.350348Z",
     "shell.execute_reply": "2024-02-23T22:35:59.349634Z",
     "shell.execute_reply.started": "2024-02-23T22:35:59.329090Z"
    }
   },
   "outputs": [],
   "source": [
    "with open(config_yaml) as f:\n",
    "    config = yaml.YAML().load(f)"
   ]
  },
  {
   "cell_type": "markdown",
   "id": "9bddf27e-86c9-475d-90e9-5b9a2be2b1df",
   "metadata": {},
   "source": [
    "## Mutation effects on phenotypes\n",
    "Read all the specified mutation-level phenotypic effects into a Data Frame.\n",
    "Write that data frame to a file.\n",
    "Also created data frame and file in which the mutation-level phenotypic data are randomized among mutations."
   ]
  },
  {
   "cell_type": "code",
   "execution_count": 4,
   "id": "cb07d139-b566-414d-84df-26d917192c91",
   "metadata": {
    "execution": {
     "iopub.execute_input": "2024-02-23T22:35:59.354599Z",
     "iopub.status.busy": "2024-02-23T22:35:59.354358Z",
     "iopub.status.idle": "2024-02-23T22:36:07.729637Z",
     "shell.execute_reply": "2024-02-23T22:36:07.727488Z",
     "shell.execute_reply.started": "2024-02-23T22:35:59.354572Z"
    }
   },
   "outputs": [
    {
     "name": "stdout",
     "output_type": "stream",
     "text": [
      "Reading XBB.1.5 spike pseudovirus DMS phenotypes from data/spike_pseudovirus_DMS_XBB.1.5.csv\n",
      "  human sera escape\n",
      "  spike mediated entry\n",
      "  ACE2 binding\n",
      "Reading XBB.1.5 RBD yeast-display DMS phenotypes from data/yeast_RBD_DMS_XBB.1.5.csv\n",
      "  ACE2 affinity\n",
      "  RBD expression\n",
      "  escape\n",
      "Reading EVEscape phenotypes from data/EVEscape_XBB_single_mutation_predictions.csv\n",
      "  EVEscape\n",
      "  fitness_evol_indices\n",
      "  dissimilarity_charge_hydrophobicity\n",
      "  accessibility_wcn\n",
      "\n",
      "Writing mutation phenotypes to results/mutation_phenotypes.csv\n",
      "\n",
      "Now randomizing each mutation phenotype 10 times\n",
      "Writing randomized mutation phenotypes to results/mutation_phenotypes_randomized.csv\n"
     ]
    }
   ],
   "source": [
    "mutation_phenotypes = []\n",
    "req_cols = [\"site\", \"wildtype\", \"mutant\"]\n",
    "for phenotype_category, category_d in config[\"phenotype_csvs\"].items():\n",
    "    pheno_cols = category_d[\"columns\"]\n",
    "    print(\n",
    "        f\"Reading {phenotype_category} phenotypes from {category_d['csv']}\\n  \"\n",
    "        + \"\\n  \".join(pheno_cols)\n",
    "    )\n",
    "    if set(req_cols).intersection(pheno_cols):\n",
    "        raise ValueError(f\"{phenotype_category} columns {pheno_cols} include {req_cols}\")\n",
    "    df = pd.read_csv(category_d[\"csv\"])\n",
    "    if not set(req_cols + pheno_cols).issubset(df.columns):\n",
    "        raise ValueError(f\"cannot find expected columns for {phenotype_category}\")\n",
    "    mutation_phenotypes.append(\n",
    "        df\n",
    "        .melt(\n",
    "            id_vars=req_cols,\n",
    "            value_vars=pheno_cols,\n",
    "            var_name=\"phenotype\",\n",
    "            value_name=\"mutation_effect\",\n",
    "        )\n",
    "        .assign(phenotype_category=phenotype_category)\n",
    "        [[\"phenotype_category\", \"phenotype\", *req_cols, \"mutation_effect\"]]\n",
    "        .query(\"mutation_effect.notnull()\")\n",
    "        .query(\"wildtype != mutant\")  # drop any wildtype to wildtype mutations\n",
    "    )\n",
    "\n",
    "mutation_phenotypes = pd.concat(mutation_phenotypes, ignore_index=True)\n",
    "\n",
    "mutation_phenotypes_csv = config[\"mutation_phenotypes_csv\"]\n",
    "os.makedirs(os.path.dirname(mutation_phenotypes_csv), exist_ok=True)\n",
    "print(f\"\\nWriting mutation phenotypes to {mutation_phenotypes_csv}\")\n",
    "mutation_phenotypes.to_csv(mutation_phenotypes_csv, index=False, float_format=\"%.4g\")\n",
    "\n",
    "n_randomizations = config[\"n_randomizations\"]\n",
    "print(f\"\\nNow randomizing each mutation phenotype {n_randomizations} times\")\n",
    "mutation_phenotypes_randomized = []\n",
    "for _, df in mutation_phenotypes.groupby([\"phenotype_category\", \"phenotype\"]):\n",
    "    for random_seed in range(n_randomizations):\n",
    "        numpy.random.seed(random_seed)\n",
    "        mutation_phenotypes_randomized.append(\n",
    "            df\n",
    "            .assign(\n",
    "                mutation_effect=lambda x: numpy.random.shuffle(x[\"mutation_effect\"].to_numpy()),\n",
    "                random_seed=random_seed\n",
    "            )\n",
    "            [[\"random_seed\"] + df.columns.tolist()]\n",
    "        )\n",
    "mutation_phenotypes_randomized = pd.concat(mutation_phenotypes_randomized, ignore_index=True)\n",
    "mutation_phenotypes_randomized_csv = config[\"mutation_phenotypes_randomized_csv\"]\n",
    "os.makedirs(os.path.dirname(mutation_phenotypes_randomized_csv), exist_ok=True)\n",
    "print(f\"Writing randomized mutation phenotypes to {mutation_phenotypes_randomized_csv}\")\n",
    "mutation_phenotypes_randomized.to_csv(mutation_phenotypes_randomized_csv, index=False, float_format=\"%.4g\")"
   ]
  },
  {
   "cell_type": "markdown",
   "id": "457037e6-00c9-46a9-8e57-aad4804e303a",
   "metadata": {},
   "source": [
    "## Read the Pango clades\n",
    "These come from Cornelius Roemer's GitHub repo ([https://github.com/corneliusroemer/pango-sequences](https://github.com/corneliusroemer/pango-sequences)):"
   ]
  },
  {
   "cell_type": "code",
   "execution_count": 5,
   "id": "0a52b188-af5f-4bb8-ae0b-44655517d7a7",
   "metadata": {
    "execution": {
     "iopub.execute_input": "2024-02-23T22:36:07.736555Z",
     "iopub.status.busy": "2024-02-23T22:36:07.736027Z",
     "iopub.status.idle": "2024-02-23T22:36:08.669462Z",
     "shell.execute_reply": "2024-02-23T22:36:08.668638Z",
     "shell.execute_reply.started": "2024-02-23T22:36:07.736500Z"
    }
   },
   "outputs": [
    {
     "name": "stdout",
     "output_type": "stream",
     "text": [
      "Reading Pango clade definitions from https://raw.githubusercontent.com/corneliusroemer/pango-sequences/main/data/pango-consensus-sequences_summary.json\n",
      "Read definitions for 3810 clades\n"
     ]
    }
   ],
   "source": [
    "pango_json = config[\"pango_json\"]\n",
    "print(f\"Reading Pango clade definitions from {pango_json}\")\n",
    "with urllib.request.urlopen(pango_json) as url:\n",
    "    pango_clades = json.load(url)\n",
    "print(f\"Read definitions for {len(pango_clades)} clades\")"
   ]
  },
  {
   "cell_type": "markdown",
   "id": "0206fdf5-21f3-4bc4-9942-5bc502bd4330",
   "metadata": {},
   "source": [
    "Get a data frame of all Pango clades along with other relevant information:"
   ]
  },
  {
   "cell_type": "code",
   "execution_count": 27,
   "id": "119c1bfd-10ec-41bb-a8e8-69345341da40",
   "metadata": {
    "execution": {
     "iopub.execute_input": "2024-02-23T22:56:21.369455Z",
     "iopub.status.busy": "2024-02-23T22:56:21.368876Z",
     "iopub.status.idle": "2024-02-23T22:56:22.625595Z",
     "shell.execute_reply": "2024-02-23T22:56:22.624675Z",
     "shell.execute_reply.started": "2024-02-23T22:56:21.369407Z"
    }
   },
   "outputs": [
    {
     "data": {
      "text/html": [
       "<div>\n",
       "<style scoped>\n",
       "    .dataframe tbody tr th:only-of-type {\n",
       "        vertical-align: middle;\n",
       "    }\n",
       "\n",
       "    .dataframe tbody tr th {\n",
       "        vertical-align: top;\n",
       "    }\n",
       "\n",
       "    .dataframe thead th {\n",
       "        text-align: right;\n",
       "    }\n",
       "</style>\n",
       "<table border=\"1\" class=\"dataframe\">\n",
       "  <thead>\n",
       "    <tr style=\"text-align: right;\">\n",
       "      <th></th>\n",
       "      <th>clade</th>\n",
       "      <th>date</th>\n",
       "      <th>parent</th>\n",
       "      <th>spike_muts_relative_to_XBB.1.5</th>\n",
       "      <th>spike_muts_relative_to_BA.2.86</th>\n",
       "      <th>is_descendant_of_XBB</th>\n",
       "      <th>is_descendant_of_BA.2</th>\n",
       "      <th>is_descendant_of_BA.2.86</th>\n",
       "    </tr>\n",
       "  </thead>\n",
       "  <tbody>\n",
       "    <tr>\n",
       "      <th>0</th>\n",
       "      <td>A</td>\n",
       "      <td>&lt;NA&gt;</td>\n",
       "      <td>&lt;NA&gt;</td>\n",
       "      <td>[(I, 19, T), (-, 24, L), (-, 25, P), (-, 26, P...</td>\n",
       "      <td>[(I, 19, T), (T, 21, R), (-, 24, L), (-, 25, P...</td>\n",
       "      <td>False</td>\n",
       "      <td>False</td>\n",
       "      <td>False</td>\n",
       "    </tr>\n",
       "    <tr>\n",
       "      <th>1</th>\n",
       "      <td>A.1</td>\n",
       "      <td>&lt;NA&gt;</td>\n",
       "      <td>A</td>\n",
       "      <td>[(I, 19, T), (-, 24, L), (-, 25, P), (-, 26, P...</td>\n",
       "      <td>[(I, 19, T), (T, 21, R), (-, 24, L), (-, 25, P...</td>\n",
       "      <td>False</td>\n",
       "      <td>False</td>\n",
       "      <td>False</td>\n",
       "    </tr>\n",
       "    <tr>\n",
       "      <th>2</th>\n",
       "      <td>A.2</td>\n",
       "      <td>&lt;NA&gt;</td>\n",
       "      <td>A</td>\n",
       "      <td>[(I, 19, T), (-, 24, L), (-, 25, P), (-, 26, P...</td>\n",
       "      <td>[(I, 19, T), (T, 21, R), (-, 24, L), (-, 25, P...</td>\n",
       "      <td>False</td>\n",
       "      <td>False</td>\n",
       "      <td>False</td>\n",
       "    </tr>\n",
       "    <tr>\n",
       "      <th>3</th>\n",
       "      <td>A.2.2</td>\n",
       "      <td>&lt;NA&gt;</td>\n",
       "      <td>A.2</td>\n",
       "      <td>[(I, 19, T), (-, 24, L), (-, 25, P), (-, 26, P...</td>\n",
       "      <td>[(I, 19, T), (T, 21, R), (-, 24, L), (-, 25, P...</td>\n",
       "      <td>False</td>\n",
       "      <td>False</td>\n",
       "      <td>False</td>\n",
       "    </tr>\n",
       "    <tr>\n",
       "      <th>4</th>\n",
       "      <td>A.2.3</td>\n",
       "      <td>&lt;NA&gt;</td>\n",
       "      <td>A.2</td>\n",
       "      <td>[(I, 19, T), (-, 24, L), (-, 25, P), (-, 26, P...</td>\n",
       "      <td>[(I, 19, T), (T, 21, R), (-, 24, L), (-, 25, P...</td>\n",
       "      <td>False</td>\n",
       "      <td>False</td>\n",
       "      <td>False</td>\n",
       "    </tr>\n",
       "    <tr>\n",
       "      <th>...</th>\n",
       "      <td>...</td>\n",
       "      <td>...</td>\n",
       "      <td>...</td>\n",
       "      <td>...</td>\n",
       "      <td>...</td>\n",
       "      <td>...</td>\n",
       "      <td>...</td>\n",
       "      <td>...</td>\n",
       "    </tr>\n",
       "    <tr>\n",
       "      <th>3805</th>\n",
       "      <td>XU</td>\n",
       "      <td>2022-04-19</td>\n",
       "      <td>&lt;NA&gt;</td>\n",
       "      <td>[(A, 83, V), (-, 144, Y), (Q, 146, H), (E, 183...</td>\n",
       "      <td>[(T, 21, R), (L, 50, S), (-, 69, H), (-, 70, V...</td>\n",
       "      <td>False</td>\n",
       "      <td>False</td>\n",
       "      <td>False</td>\n",
       "    </tr>\n",
       "    <tr>\n",
       "      <th>3806</th>\n",
       "      <td>XV</td>\n",
       "      <td>2022-05-11</td>\n",
       "      <td>&lt;NA&gt;</td>\n",
       "      <td>[(-, 24, L), (-, 25, P), (-, 26, P), (S, 27, A...</td>\n",
       "      <td>[(T, 21, R), (-, 24, L), (-, 25, P), (-, 26, P...</td>\n",
       "      <td>False</td>\n",
       "      <td>False</td>\n",
       "      <td>False</td>\n",
       "    </tr>\n",
       "    <tr>\n",
       "      <th>3807</th>\n",
       "      <td>XW</td>\n",
       "      <td>2022-05-12</td>\n",
       "      <td>&lt;NA&gt;</td>\n",
       "      <td>[(A, 83, V), (-, 144, Y), (Q, 146, H), (E, 183...</td>\n",
       "      <td>[(T, 21, R), (L, 50, S), (-, 69, H), (-, 70, V...</td>\n",
       "      <td>False</td>\n",
       "      <td>False</td>\n",
       "      <td>False</td>\n",
       "    </tr>\n",
       "    <tr>\n",
       "      <th>3808</th>\n",
       "      <td>XY</td>\n",
       "      <td>2022-05-18</td>\n",
       "      <td>&lt;NA&gt;</td>\n",
       "      <td>[(A, 83, V), (-, 144, Y), (Q, 146, H), (E, 183...</td>\n",
       "      <td>[(T, 21, R), (L, 50, S), (-, 69, H), (-, 70, V...</td>\n",
       "      <td>False</td>\n",
       "      <td>False</td>\n",
       "      <td>False</td>\n",
       "    </tr>\n",
       "    <tr>\n",
       "      <th>3809</th>\n",
       "      <td>XZ</td>\n",
       "      <td>2022-06-03</td>\n",
       "      <td>&lt;NA&gt;</td>\n",
       "      <td>[(A, 83, V), (-, 144, Y), (Q, 146, H), (E, 183...</td>\n",
       "      <td>[(T, 21, R), (L, 50, S), (-, 69, H), (-, 70, V...</td>\n",
       "      <td>False</td>\n",
       "      <td>False</td>\n",
       "      <td>False</td>\n",
       "    </tr>\n",
       "  </tbody>\n",
       "</table>\n",
       "<p>3810 rows × 8 columns</p>\n",
       "</div>"
      ],
      "text/plain": [
       "      clade        date parent  \\\n",
       "0         A        <NA>   <NA>   \n",
       "1       A.1        <NA>      A   \n",
       "2       A.2        <NA>      A   \n",
       "3     A.2.2        <NA>    A.2   \n",
       "4     A.2.3        <NA>    A.2   \n",
       "...     ...         ...    ...   \n",
       "3805     XU  2022-04-19   <NA>   \n",
       "3806     XV  2022-05-11   <NA>   \n",
       "3807     XW  2022-05-12   <NA>   \n",
       "3808     XY  2022-05-18   <NA>   \n",
       "3809     XZ  2022-06-03   <NA>   \n",
       "\n",
       "                         spike_muts_relative_to_XBB.1.5  \\\n",
       "0     [(I, 19, T), (-, 24, L), (-, 25, P), (-, 26, P...   \n",
       "1     [(I, 19, T), (-, 24, L), (-, 25, P), (-, 26, P...   \n",
       "2     [(I, 19, T), (-, 24, L), (-, 25, P), (-, 26, P...   \n",
       "3     [(I, 19, T), (-, 24, L), (-, 25, P), (-, 26, P...   \n",
       "4     [(I, 19, T), (-, 24, L), (-, 25, P), (-, 26, P...   \n",
       "...                                                 ...   \n",
       "3805  [(A, 83, V), (-, 144, Y), (Q, 146, H), (E, 183...   \n",
       "3806  [(-, 24, L), (-, 25, P), (-, 26, P), (S, 27, A...   \n",
       "3807  [(A, 83, V), (-, 144, Y), (Q, 146, H), (E, 183...   \n",
       "3808  [(A, 83, V), (-, 144, Y), (Q, 146, H), (E, 183...   \n",
       "3809  [(A, 83, V), (-, 144, Y), (Q, 146, H), (E, 183...   \n",
       "\n",
       "                         spike_muts_relative_to_BA.2.86  is_descendant_of_XBB  \\\n",
       "0     [(I, 19, T), (T, 21, R), (-, 24, L), (-, 25, P...                 False   \n",
       "1     [(I, 19, T), (T, 21, R), (-, 24, L), (-, 25, P...                 False   \n",
       "2     [(I, 19, T), (T, 21, R), (-, 24, L), (-, 25, P...                 False   \n",
       "3     [(I, 19, T), (T, 21, R), (-, 24, L), (-, 25, P...                 False   \n",
       "4     [(I, 19, T), (T, 21, R), (-, 24, L), (-, 25, P...                 False   \n",
       "...                                                 ...                   ...   \n",
       "3805  [(T, 21, R), (L, 50, S), (-, 69, H), (-, 70, V...                 False   \n",
       "3806  [(T, 21, R), (-, 24, L), (-, 25, P), (-, 26, P...                 False   \n",
       "3807  [(T, 21, R), (L, 50, S), (-, 69, H), (-, 70, V...                 False   \n",
       "3808  [(T, 21, R), (L, 50, S), (-, 69, H), (-, 70, V...                 False   \n",
       "3809  [(T, 21, R), (L, 50, S), (-, 69, H), (-, 70, V...                 False   \n",
       "\n",
       "      is_descendant_of_BA.2  is_descendant_of_BA.2.86  \n",
       "0                     False                     False  \n",
       "1                     False                     False  \n",
       "2                     False                     False  \n",
       "3                     False                     False  \n",
       "4                     False                     False  \n",
       "...                     ...                       ...  \n",
       "3805                  False                     False  \n",
       "3806                  False                     False  \n",
       "3807                  False                     False  \n",
       "3808                  False                     False  \n",
       "3809                  False                     False  \n",
       "\n",
       "[3810 rows x 8 columns]"
      ]
     },
     "execution_count": 27,
     "metadata": {},
     "output_type": "execute_result"
    }
   ],
   "source": [
    "clades_df = {}\n",
    "\n",
    "def is_descendant_of(clade, ancestor):\n",
    "    \"\"\"Returns True iff `clade` is a descendant of `ancestor`.\"\"\"\n",
    "    if pango_clades[clade][\"parent\"] == ancestor:\n",
    "        return True\n",
    "    elif pango_clades[clade][\"parent\"]:\n",
    "        return is_descendant_of(pango_clades[clade][\"parent\"], ancestor)\n",
    "    else:\n",
    "        return False\n",
    "\n",
    "def relative_mutations(clade_muts, reference_muts):\n",
    "    \"\"\"Get mutation in `clade_muts` relative `reference_muts`.\"\"\"\n",
    "    shared_muts = set(clade_muts).intersection(reference_muts)\n",
    "    clade_sites = {\n",
    "        r: (wt, m) for (wt, r, m) in [tup for tup in clade_muts if tup not in shared_muts]\n",
    "    }\n",
    "    reference_sites = {\n",
    "        r: (wt, m) for (wt, r, m) in [tup for tup in reference_muts if tup not in shared_muts]\n",
    "    }\n",
    "    muts = []\n",
    "    for r, (wt, m) in clade_sites.items():\n",
    "        if r in reference_sites:\n",
    "            assert wt == reference_sites[r][0]\n",
    "            muts.append((r, reference_sites[r][1], m))\n",
    "        else:\n",
    "            muts.append((r, wt, m))\n",
    "    for r, (wt, m) in reference_sites.items():\n",
    "        if r in clade_sites:\n",
    "            assert wt == clade_sites[r][0]\n",
    "            pass  # already counted\n",
    "        else:\n",
    "            muts.append((r, m, wt))\n",
    "    return [(wt, r, m) for (r, wt, m) in sorted(muts)]\n",
    "\n",
    "def parse_spike_muts(clade_d):\n",
    "    \"\"\"Parse spike mutations from dict for a clade.\"\"\"\n",
    "    return [\n",
    "        (mut.split(\":\")[1][0], int(mut.split(\":\")[1][1: -1]), mut.split(\":\")[1][-1])\n",
    "        for mut in clade_d[\"aaSubstitutions\"] + clade_d[\"aaDeletions\"]\n",
    "        if mut and mut.startswith(\"S:\")\n",
    "    ]\n",
    "\n",
    "compute_relative_to = config[\"compute_relative_to\"]\n",
    "compute_relative_to_spike_muts = {\n",
    "    ref_clade: parse_spike_muts(pango_clades[ref_clade])\n",
    "    for ref_clade in compute_relative_to\n",
    "}\n",
    "\n",
    "for clade, clade_d in pango_clades.items():\n",
    "    spike_muts = parse_spike_muts(clade_d)\n",
    "    clades_df[clade] = {\n",
    "        \"date\": clade_d[\"designationDate\"] if clade_d[\"designationDate\"] else pd.NA,\n",
    "        \"parent\": clade_d[\"parent\"] if clade_d[\"parent\"] else pd.NA,\n",
    "        **{\n",
    "            f\"spike_muts_relative_to_{ref_clade}\":\n",
    "                relative_mutations(spike_muts, compute_relative_to_spike_muts[ref_clade])\n",
    "            for ref_clade in compute_relative_to\n",
    "        },\n",
    "        **{\n",
    "            f\"is_descendant_of_{ancestor}\": is_descendant_of(clade, ancestor)\n",
    "            for ancestor in config[\"classify_descendants_of\"]\n",
    "        },\n",
    "        \n",
    "    }\n",
    "    \n",
    "clades_df = pd.DataFrame.from_dict(clades_df, orient=\"index\").reset_index(names=\"clade\")\n",
    "\n",
    "clades_df"
   ]
  },
  {
   "cell_type": "code",
   "execution_count": 7,
   "id": "ed976ae8-4e5a-497d-a6d9-81860c078484",
   "metadata": {
    "execution": {
     "iopub.execute_input": "2024-02-23T22:36:09.118501Z",
     "iopub.status.busy": "2024-02-23T22:36:09.118300Z",
     "iopub.status.idle": "2024-02-23T22:36:09.123377Z",
     "shell.execute_reply": "2024-02-23T22:36:09.122261Z",
     "shell.execute_reply.started": "2024-02-23T22:36:09.118478Z"
    }
   },
   "outputs": [
    {
     "data": {
      "text/plain": [
       "{'phenotype_csvs': {'XBB.1.5 spike pseudovirus DMS': {'csv': 'data/spike_pseudovirus_DMS_XBB.1.5.csv', 'columns': ['human sera escape', 'spike mediated entry', 'ACE2 binding']}, 'XBB.1.5 RBD yeast-display DMS': {'csv': 'data/yeast_RBD_DMS_XBB.1.5.csv', 'columns': ['ACE2 affinity', 'RBD expression', 'escape']}, 'EVEscape': {'csv': 'data/EVEscape_XBB_single_mutation_predictions.csv', 'columns': ['EVEscape', 'fitness_evol_indices', 'dissimilarity_charge_hydrophobicity', 'accessibility_wcn']}}, 'include_hamming_distance': True, 'pango_json': 'https://raw.githubusercontent.com/corneliusroemer/pango-sequences/main/data/pango-consensus-sequences_summary.json', 'compute_relative_to': ['XBB.1.5', 'BA.2.86'], 'classify_descendants_of': ['XBB', 'BA.2', 'BA.2.86'], 'n_randomizations': 10, 'mutation_phenotypes_csv': 'results/mutation_phenotypes.csv', 'mutation_phenotypes_randomized_csv': 'results/mutation_phenotypes_randomized.csv', 'clade_phenotypes_csv': 'results/clade_phenotypes.csv', 'clade_phenotypes_randomized_csv': 'results/clade_phenotypes.csv'}"
      ]
     },
     "execution_count": 7,
     "metadata": {},
     "output_type": "execute_result"
    }
   ],
   "source": [
    "config"
   ]
  },
  {
   "cell_type": "code",
   "execution_count": null,
   "id": "a9e6ca47-7520-4cbe-9a3f-97e202e4ad8d",
   "metadata": {},
   "outputs": [],
   "source": []
  }
 ],
 "metadata": {
  "kernelspec": {
   "display_name": "Python 3 (ipykernel)",
   "language": "python",
   "name": "python3"
  },
  "language_info": {
   "codemirror_mode": {
    "name": "ipython",
    "version": 3
   },
   "file_extension": ".py",
   "mimetype": "text/x-python",
   "name": "python",
   "nbconvert_exporter": "python",
   "pygments_lexer": "ipython3",
   "version": "3.11.8"
  }
 },
 "nbformat": 4,
 "nbformat_minor": 5
}
