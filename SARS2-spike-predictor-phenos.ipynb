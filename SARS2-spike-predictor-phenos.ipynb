{
 "cells": [
  {
   "cell_type": "markdown",
   "id": "93f86296-548c-4d78-b295-d041b371c92e",
   "metadata": {},
   "source": [
    "# Tabulate phenotypes of SARS-CoV-2 spike that might have predictive power in understanding evolution for different mutations and clades\n",
    "\n",
    "Import Python modules:"
   ]
  },
  {
   "cell_type": "code",
   "execution_count": 1,
   "id": "d4356fd9-5204-4b7f-a587-f2bc90bb719f",
   "metadata": {
    "execution": {
     "iopub.execute_input": "2024-02-24T14:37:51.819053Z",
     "iopub.status.busy": "2024-02-24T14:37:51.818594Z",
     "iopub.status.idle": "2024-02-24T14:37:53.523136Z",
     "shell.execute_reply": "2024-02-24T14:37:53.522205Z",
     "shell.execute_reply.started": "2024-02-24T14:37:51.819011Z"
    }
   },
   "outputs": [],
   "source": [
    "import json\n",
    "import os\n",
    "import urllib.request\n",
    "\n",
    "import altair as alt\n",
    "\n",
    "import numpy\n",
    "\n",
    "import pandas as pd\n",
    "\n",
    "import ruamel.yaml as yaml"
   ]
  },
  {
   "cell_type": "markdown",
   "id": "e88e8e74-6172-43f3-a4e9-47d533125250",
   "metadata": {},
   "source": [
    "Read the configuration YAML:"
   ]
  },
  {
   "cell_type": "code",
   "execution_count": 2,
   "id": "85d21482-675b-40fa-b897-f7606b70cfb9",
   "metadata": {
    "editable": true,
    "execution": {
     "iopub.execute_input": "2024-02-24T14:37:53.528058Z",
     "iopub.status.busy": "2024-02-24T14:37:53.527639Z",
     "iopub.status.idle": "2024-02-24T14:37:53.531977Z",
     "shell.execute_reply": "2024-02-24T14:37:53.531226Z",
     "shell.execute_reply.started": "2024-02-24T14:37:53.528024Z"
    },
    "slideshow": {
     "slide_type": ""
    },
    "tags": [
     "parameters"
    ]
   },
   "outputs": [],
   "source": [
    "# This cell is tagged as parameters. So if you run the notebook using papermill\n",
    "# (https://papermill.readthedocs.io/en/latest/usage-cli.html) with \n",
    "# `-p config_yaml <config_yaml_file>` then the file defined here will be replaced\n",
    "# with the one you pass\n",
    "config_yaml = \"config.yaml\""
   ]
  },
  {
   "cell_type": "code",
   "execution_count": 3,
   "id": "b33ae279-2351-413f-8a5f-f39fd7be684c",
   "metadata": {
    "execution": {
     "iopub.execute_input": "2024-02-24T14:37:53.535970Z",
     "iopub.status.busy": "2024-02-24T14:37:53.535590Z",
     "iopub.status.idle": "2024-02-24T14:37:53.555899Z",
     "shell.execute_reply": "2024-02-24T14:37:53.555170Z",
     "shell.execute_reply.started": "2024-02-24T14:37:53.535938Z"
    }
   },
   "outputs": [],
   "source": [
    "with open(config_yaml) as f:\n",
    "    config = yaml.YAML().load(f)"
   ]
  },
  {
   "cell_type": "markdown",
   "id": "9bddf27e-86c9-475d-90e9-5b9a2be2b1df",
   "metadata": {},
   "source": [
    "## Mutation effects on phenotypes\n",
    "Read all the specified mutation-level phenotypic effects into a Data Frame.\n",
    "Write that data frame to a file.\n",
    "Also created data frame and file in which the mutation-level phenotypic data are randomized among mutations."
   ]
  },
  {
   "cell_type": "code",
   "execution_count": 4,
   "id": "cb07d139-b566-414d-84df-26d917192c91",
   "metadata": {
    "execution": {
     "iopub.execute_input": "2024-02-24T14:37:53.559576Z",
     "iopub.status.busy": "2024-02-24T14:37:53.559201Z",
     "iopub.status.idle": "2024-02-24T14:38:03.496172Z",
     "shell.execute_reply": "2024-02-24T14:38:03.493909Z",
     "shell.execute_reply.started": "2024-02-24T14:37:53.559546Z"
    }
   },
   "outputs": [
    {
     "name": "stdout",
     "output_type": "stream",
     "text": [
      "Reading spike pseudovirus DMS phenotypes from data/spike_pseudovirus_DMS_XBB.1.5.csv\n",
      "  human sera escape\n",
      "  spike mediated entry\n",
      "  ACE2 binding\n",
      "Reading RBD yeast-display DMS phenotypes from data/yeast_RBD_DMS_XBB.1.5.csv\n",
      "  ACE2 affinity\n",
      "  RBD expression\n",
      "  escape\n",
      "Reading EVEscape phenotypes from data/EVEscape_XBB_single_mutation_predictions.csv\n",
      "  EVEscape\n",
      "  fitness_evol_indices\n",
      "  dissimilarity_charge_hydrophobicity\n",
      "  accessibility_wcn\n",
      "\n",
      "Writing mutation phenotypes to results/mutation_phenotypes.csv\n",
      "\n",
      "Now randomizing each mutation phenotype 10 times\n",
      "Writing randomized mutation phenotypes to results/mutation_phenotypes_randomized.csv\n"
     ]
    }
   ],
   "source": [
    "mutation_phenotypes = []\n",
    "req_cols = [\"site\", \"wildtype\", \"mutant\"]\n",
    "ref_clades = []\n",
    "for ref_clade, ref_clade_d in config[\"mutation_phenotype_csvs\"].items():\n",
    "    ref_clades.append(ref_clade)\n",
    "    for phenotype_category, category_d in ref_clade_d.items():\n",
    "        pheno_cols = category_d[\"columns\"]\n",
    "        print(\n",
    "            f\"Reading {phenotype_category} phenotypes from {category_d['csv']}\\n  \"\n",
    "            + \"\\n  \".join(pheno_cols)\n",
    "        )\n",
    "        if set(req_cols).intersection(pheno_cols):\n",
    "            raise ValueError(f\"{phenotype_category} columns {pheno_cols} include {req_cols}\")\n",
    "        df = pd.read_csv(category_d[\"csv\"])\n",
    "        if not set(req_cols + pheno_cols).issubset(df.columns):\n",
    "            raise ValueError(f\"cannot find expected columns for {phenotype_category}\")\n",
    "        mutation_phenotypes.append(\n",
    "            df\n",
    "            .melt(\n",
    "                id_vars=req_cols,\n",
    "                value_vars=pheno_cols,\n",
    "                var_name=\"phenotype\",\n",
    "                value_name=\"mutation_effect\",\n",
    "            )\n",
    "            .assign(ref_clade=ref_clade, phenotype_category=phenotype_category)\n",
    "            [[\"ref_clade\", \"phenotype_category\", \"phenotype\", *req_cols, \"mutation_effect\"]]\n",
    "            .query(\"mutation_effect.notnull()\")\n",
    "            .query(\"wildtype != mutant\")  # drop any wildtype to wildtype mutations\n",
    "        )\n",
    "\n",
    "mutation_phenotypes = pd.concat(mutation_phenotypes, ignore_index=True)\n",
    "\n",
    "mutation_phenotypes_csv = config[\"mutation_phenotypes_csv\"]\n",
    "os.makedirs(os.path.dirname(mutation_phenotypes_csv), exist_ok=True)\n",
    "print(f\"\\nWriting mutation phenotypes to {mutation_phenotypes_csv}\")\n",
    "mutation_phenotypes.to_csv(mutation_phenotypes_csv, index=False, float_format=\"%.4g\")\n",
    "\n",
    "n_randomizations = config[\"n_randomizations\"]\n",
    "print(f\"\\nNow randomizing each mutation phenotype {n_randomizations} times\")\n",
    "mutation_phenotypes_randomized = []\n",
    "for _, df in mutation_phenotypes.groupby([\"ref_clade\", \"phenotype_category\", \"phenotype\"]):\n",
    "    for random_seed in range(n_randomizations):\n",
    "        numpy.random.seed(random_seed)\n",
    "        mutation_phenotypes_randomized.append(\n",
    "            df\n",
    "            .assign(\n",
    "                mutation_effect=lambda x: numpy.random.permutation(x[\"mutation_effect\"]),\n",
    "                random_seed=random_seed\n",
    "            )\n",
    "            [[\"random_seed\"] + df.columns.tolist()]\n",
    "        )\n",
    "mutation_phenotypes_randomized = pd.concat(mutation_phenotypes_randomized, ignore_index=True)\n",
    "mutation_phenotypes_randomized_csv = config[\"mutation_phenotypes_randomized_csv\"]\n",
    "os.makedirs(os.path.dirname(mutation_phenotypes_randomized_csv), exist_ok=True)\n",
    "print(f\"Writing randomized mutation phenotypes to {mutation_phenotypes_randomized_csv}\")\n",
    "mutation_phenotypes_randomized.to_csv(mutation_phenotypes_randomized_csv, index=False, float_format=\"%.4g\")"
   ]
  },
  {
   "cell_type": "markdown",
   "id": "457037e6-00c9-46a9-8e57-aad4804e303a",
   "metadata": {},
   "source": [
    "## Read the Pango clades\n",
    "These come from Cornelius Roemer's GitHub repo ([https://github.com/corneliusroemer/pango-sequences](https://github.com/corneliusroemer/pango-sequences)):"
   ]
  },
  {
   "cell_type": "code",
   "execution_count": 5,
   "id": "0a52b188-af5f-4bb8-ae0b-44655517d7a7",
   "metadata": {
    "execution": {
     "iopub.execute_input": "2024-02-24T14:38:03.504802Z",
     "iopub.status.busy": "2024-02-24T14:38:03.504060Z",
     "iopub.status.idle": "2024-02-24T14:38:04.189184Z",
     "shell.execute_reply": "2024-02-24T14:38:04.188060Z",
     "shell.execute_reply.started": "2024-02-24T14:38:03.504734Z"
    }
   },
   "outputs": [
    {
     "name": "stdout",
     "output_type": "stream",
     "text": [
      "Reading Pango clade definitions from https://raw.githubusercontent.com/corneliusroemer/pango-sequences/main/data/pango-consensus-sequences_summary.json\n",
      "Read definitions for 3810 clades\n"
     ]
    }
   ],
   "source": [
    "pango_json = config[\"pango_json\"]\n",
    "print(f\"Reading Pango clade definitions from {pango_json}\")\n",
    "with urllib.request.urlopen(pango_json) as url:\n",
    "    pango_clades = json.load(url)\n",
    "print(f\"Read definitions for {len(pango_clades)} clades\")"
   ]
  },
  {
   "cell_type": "markdown",
   "id": "0206fdf5-21f3-4bc4-9942-5bc502bd4330",
   "metadata": {},
   "source": [
    "Get a data frame of all Pango clades along with other relevant information:"
   ]
  },
  {
   "cell_type": "code",
   "execution_count": 6,
   "id": "119c1bfd-10ec-41bb-a8e8-69345341da40",
   "metadata": {
    "execution": {
     "iopub.execute_input": "2024-02-24T14:38:04.193904Z",
     "iopub.status.busy": "2024-02-24T14:38:04.193537Z",
     "iopub.status.idle": "2024-02-24T14:38:04.745320Z",
     "shell.execute_reply": "2024-02-24T14:38:04.744362Z",
     "shell.execute_reply.started": "2024-02-24T14:38:04.193875Z"
    }
   },
   "outputs": [],
   "source": [
    "def is_descendant_of(clade, ancestor):\n",
    "    \"\"\"Returns True iff `clade` is a descendant of `ancestor`.\"\"\"\n",
    "    if pango_clades[clade][\"parent\"] == ancestor:\n",
    "        return True\n",
    "    elif pango_clades[clade][\"parent\"]:\n",
    "        return is_descendant_of(pango_clades[clade][\"parent\"], ancestor)\n",
    "    else:\n",
    "        return False\n",
    "\n",
    "def relative_mutations(clade_muts, reference_muts):\n",
    "    \"\"\"Get mutation in `clade_muts` relative `reference_muts`.\"\"\"\n",
    "    shared_muts = set(clade_muts).intersection(reference_muts)\n",
    "    clade_sites = {\n",
    "        r: (wt, m) for (wt, r, m) in [tup for tup in clade_muts if tup not in shared_muts]\n",
    "    }\n",
    "    reference_sites = {\n",
    "        r: (wt, m) for (wt, r, m) in [tup for tup in reference_muts if tup not in shared_muts]\n",
    "    }\n",
    "    muts = []\n",
    "    for r, (wt, m) in clade_sites.items():\n",
    "        if r in reference_sites:\n",
    "            assert wt == reference_sites[r][0]\n",
    "            muts.append((r, reference_sites[r][1], m))\n",
    "        else:\n",
    "            muts.append((r, wt, m))\n",
    "    for r, (wt, m) in reference_sites.items():\n",
    "        if r in clade_sites:\n",
    "            assert wt == clade_sites[r][0]\n",
    "            pass  # already counted\n",
    "        else:\n",
    "            muts.append((r, m, wt))\n",
    "    return [(wt, r, m) for (r, wt, m) in sorted(muts)]\n",
    "\n",
    "def parse_spike_muts(clade_d):\n",
    "    \"\"\"Parse spike mutations from dict for a clade.\"\"\"\n",
    "    return [\n",
    "        (mut.split(\":\")[1][0], int(mut.split(\":\")[1][1: -1]), mut.split(\":\")[1][-1])\n",
    "        for mut in clade_d[\"aaSubstitutions\"] + clade_d[\"aaDeletions\"]\n",
    "        if mut and mut.startswith(\"S:\")\n",
    "    ]\n",
    "\n",
    "clades_df = {}\n",
    "\n",
    "ref_clade_spike_muts = {\n",
    "    ref_clade: parse_spike_muts(pango_clades[ref_clade])\n",
    "    for ref_clade in ref_clades\n",
    "}\n",
    "\n",
    "for clade, clade_d in pango_clades.items():\n",
    "    spike_muts = parse_spike_muts(clade_d)\n",
    "    clades_df[clade] = {\n",
    "        \"date\": clade_d[\"designationDate\"] if clade_d[\"designationDate\"] else pd.NA,\n",
    "        \"parent\": clade_d[\"parent\"] if clade_d[\"parent\"] else pd.NA,\n",
    "        **{\n",
    "            f\"spike_muts_relative_to_{ref_clade}\":\n",
    "                relative_mutations(spike_muts, ref_clade_spike_muts[ref_clade])\n",
    "            for ref_clade in ref_clades\n",
    "        },\n",
    "        **{\n",
    "            f\"descendant_of_{ancestor}\": is_descendant_of(clade, ancestor)\n",
    "            for ancestor in config[\"classify_descendants_of\"]\n",
    "        },\n",
    "        \n",
    "    }\n",
    "    \n",
    "clades_df = pd.DataFrame.from_dict(clades_df, orient=\"index\").reset_index(names=\"clade\")"
   ]
  },
  {
   "cell_type": "markdown",
   "id": "ae904577-1dd4-42c6-b937-c474fed25c8c",
   "metadata": {
    "execution": {
     "iopub.execute_input": "2024-02-23T22:58:02.715536Z",
     "iopub.status.busy": "2024-02-23T22:58:02.715236Z",
     "iopub.status.idle": "2024-02-23T22:58:02.719701Z",
     "shell.execute_reply": "2024-02-23T22:58:02.719092Z",
     "shell.execute_reply.started": "2024-02-23T22:58:02.715516Z"
    }
   },
   "source": [
    "## Assign phenotypes to clades\n",
    "Phenotypes are just sum of mutation effects of all mutations with respect to the `spike_muts_relative_to` clade.\n",
    "Mutations without measured phenotype effects are ignored (given values of zero)."
   ]
  },
  {
   "cell_type": "code",
   "execution_count": null,
   "id": "a9e6ca47-7520-4cbe-9a3f-97e202e4ad8d",
   "metadata": {
    "execution": {
     "iopub.execute_input": "2024-02-24T14:38:04.746861Z",
     "iopub.status.busy": "2024-02-24T14:38:04.746471Z"
    }
   },
   "outputs": [
    {
     "name": "stdout",
     "output_type": "stream",
     "text": [
      "Writing clade phenotypes to results/clade_phenotypes.csv\n",
      "\n",
      "Computing clade phenotypes from 10 randomizations of mutation phenotypes\n"
     ]
    }
   ],
   "source": [
    "class PhenotypeAssigner:\n",
    "    \"\"\"Assign phenotypes to sets of mutations.\n",
    "\n",
    "    Parameters\n",
    "    ----------\n",
    "    mutation_phenotypes_df : pandas.DataFrame\n",
    "        Should have columns `site`, `wildtype`, `mutant`, `mutation_effect`.\n",
    "        \n",
    "    \"\"\"\n",
    "    def __init__(self, mutation_phenotypes_df):\n",
    "        assert len(mutation_phenotypes_df) == len(\n",
    "            mutation_phenotypes_df[[\"site\", \"mutant\"]].drop_duplicates()\n",
    "        )\n",
    "        self.sites = sorted(set(mutation_phenotypes_df[\"site\"]))\n",
    "        assert len(self.sites) == len(\n",
    "            mutation_phenotypes_df[[\"site\", \"wildtype\"]].drop_duplicates()\n",
    "        )\n",
    "        self.wts = mutation_phenotypes_df.set_index(\"site\")[\"wildtype\"].to_dict()\n",
    "        self.effects = {\n",
    "            site: site_df.set_index(\"mutant\")[\"mutation_effect\"].to_dict()\n",
    "            for site, site_df in mutation_phenotypes_df.groupby(\"site\")\n",
    "        }\n",
    "        for site, wt in self.wts.items():\n",
    "            assert wt not in self.effects[site]\n",
    "            self.effects[site][wt] = 0.0\n",
    "\n",
    "    def phenotype(self, muts):\n",
    "        \"\"\"Returns phenotype for list of `muts` as `(wildtype, site, mutant)`.\"\"\"\n",
    "        pheno = 0.0\n",
    "        for wt, site, m in muts:\n",
    "            if (site in self.effects) and (wt in self.effects[site]) and (m in self.effects[site]):\n",
    "                pheno += self.effects[site][m] - self.effects[site][wt]\n",
    "        return pheno\n",
    "\n",
    "# assign clade phenotypes, Hamming distance from reference, and mutation lists as strings\n",
    "clade_phenos = clades_df.copy()\n",
    "new_clade_pheno_cols = []\n",
    "for (ref_clade, phenotype_category, phenotype), df in mutation_phenotypes.groupby(\n",
    "    [\"ref_clade\", \"phenotype_category\", \"phenotype\"]\n",
    "):\n",
    "    if (\";\" in ref_clade) or (\";\" in phenotype_category) or (\";\" in phenotype):\n",
    "        raise ValueError(f\"Cannot have ';' in {ref_clade=} or {phenotype_category=} or {phenotype=}\")\n",
    "    phenos = PhenotypeAssigner(df)\n",
    "    new_clade_pheno_cols.append(\n",
    "        clade_phenos[f\"spike_muts_relative_to_{ref_clade}\"].map(phenos.phenotype).rename(\n",
    "            f\"{ref_clade}; {phenotype_category}; {phenotype}\"\n",
    "        )\n",
    "    )\n",
    "for ref_clade in ref_clades:\n",
    "    col = f\"spike_muts_relative_to_{ref_clade}\"\n",
    "    new_clade_pheno_cols.append(\n",
    "        clade_phenos[col].map(len).rename(f\"{ref_clade}; Hamming distance; Hamming distance\")\n",
    "    )\n",
    "    clade_phenos[col] = clade_phenos[col].map(\n",
    "        lambda mutlist: \" \".join(f\"{wt}{r}{m}\" for (wt, r, m) in mutlist)\n",
    "    )\n",
    "clade_phenos = pd.concat([clade_phenos] + new_clade_pheno_cols, axis=1)\n",
    "clade_phenotypes_csv = config[\"clade_phenotypes_csv\"]\n",
    "os.makedirs(os.path.dirname(clade_phenotypes_csv), exist_ok=True)\n",
    "print(f\"Writing clade phenotypes to {clade_phenotypes_csv}\")\n",
    "clade_phenos.to_csv(clade_phenotypes_csv, index=False, float_format=\"%.4g\")\n",
    "\n",
    "# assign clade phenotypes from randomized data\n",
    "print(f\"\\nComputing clade phenotypes from {n_randomizations} randomizations of mutation phenotypes\")\n",
    "clade_phenos_randomized = clades_df.copy()\n",
    "new_clade_pheno_randomized_cols = []\n",
    "for (random_seed, ref_clade, phenotype_category, phenotype), df in mutation_phenotypes_randomized.groupby(\n",
    "    [\"random_seed\", \"ref_clade\", \"phenotype_category\", \"phenotype\"]\n",
    "):\n",
    "    if (\";\" in ref_clade) or (\";\" in phenotype_category) or (\";\" in phenotype):\n",
    "        raise ValueError(f\"Cannot have ';' in {ref_clade=} or {phenotype_category=} or {phenotype=}\")\n",
    "    phenos = PhenotypeAssigner(df)\n",
    "    new_clade_pheno_randomized_cols.append(\n",
    "        clade_phenos_randomized[f\"spike_muts_relative_to_{ref_clade}\"].map(phenos.phenotype).rename(\n",
    "            f\"{random_seed}; {ref_clade}; {phenotype_category}; {phenotype}\"\n",
    "        )\n",
    "    )\n",
    "for ref_clade in ref_clades:\n",
    "    col = f\"spike_muts_relative_to_{ref_clade}\"\n",
    "    for random_seed in mutation_phenotypes_randomized[\"random_seed\"].unique():\n",
    "        new_clade_pheno_randomized_cols.append(\n",
    "            clade_phenos_randomized[col].map(len).rename(f\"{random_seed}; {ref_clade}; Hamming distance; Hamming distance\")\n",
    "        )\n",
    "    clade_phenos_randomized[col] = clade_phenos_randomized[col].map(\n",
    "        lambda mutlist: \" \".join(f\"{wt}{r}{m}\" for (wt, r, m) in mutlist)\n",
    "    )\n",
    "clade_phenos_randomized = pd.concat([clade_phenos_randomized] + new_clade_pheno_randomized_cols, axis=1)\n",
    "clade_phenotypes_randomized_csv = config[\"clade_phenotypes_randomized_csv\"]\n",
    "os.makedirs(os.path.dirname(clade_phenotypes_randomized_csv), exist_ok=True)\n",
    "print(f\"Writing randomized clade phenotypes to {clade_phenotypes_randomized_csv}\")\n",
    "clade_phenos_randomized.to_csv(clade_phenotypes_randomized_csv, index=False, float_format=\"%.4g\")"
   ]
  },
  {
   "cell_type": "code",
   "execution_count": null,
   "id": "e83ce2e7-a541-4829-ae56-ef16a93170a2",
   "metadata": {},
   "outputs": [],
   "source": []
  }
 ],
 "metadata": {
  "kernelspec": {
   "display_name": "Python 3 (ipykernel)",
   "language": "python",
   "name": "python3"
  },
  "language_info": {
   "codemirror_mode": {
    "name": "ipython",
    "version": 3
   },
   "file_extension": ".py",
   "mimetype": "text/x-python",
   "name": "python",
   "nbconvert_exporter": "python",
   "pygments_lexer": "ipython3",
   "version": "3.11.8"
  }
 },
 "nbformat": 4,
 "nbformat_minor": 5
}
